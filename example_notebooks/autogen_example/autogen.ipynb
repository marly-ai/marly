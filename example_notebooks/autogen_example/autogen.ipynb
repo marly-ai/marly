{
 "cells": [
  {
   "cell_type": "markdown",
   "metadata": {},
   "source": [
    "# Marly Integration with Autogen\n",
    "This notebook example shows how Marly can be used together with Autogen to perform tasks. In the below example workflow, two Agents: pdf_processor and code_executor convert table data from a 10k pdf report into a line chart. Users only need to instruct the agents what table schemas need to be extracted from which pdf file. \n",
    "\n",
    "The pdf_generator is using Marly as a tool to perform high quality data extraction based on pdf document and schema."
   ]
  },
  {
   "cell_type": "markdown",
   "metadata": {},
   "source": [
    "### Install Dependencies"
   ]
  },
  {
   "cell_type": "code",
   "execution_count": 1,
   "metadata": {},
   "outputs": [],
   "source": [
    "%%capture --no-stderr\n",
    "%pip install \"pyautogen>=0.2.3\" pandas matplotlib PyPDF2\n",
    "%pip install marly\n",
    "%pip install groq"
   ]
  },
  {
   "cell_type": "markdown",
   "metadata": {},
   "source": [
    "### Define Tools"
   ]
  },
  {
   "cell_type": "code",
   "execution_count": 8,
   "metadata": {},
   "outputs": [],
   "source": [
    "# Function calls using Marly for extracting schema data from pdf\n",
    "import marly\n",
    "from marly import Marly\n",
    "import logging\n",
    "import base64\n",
    "import zlib\n",
    "import os\n",
    "import json\n",
    "from dotenv import load_dotenv\n",
    "import time\n",
    "load_dotenv()\n",
    "\n",
    "client = Marly(\n",
    "    base_url=\"http://localhost:8100\",\n",
    ")\n",
    "\n",
    "PDF_FILE_PATH = \"./lacers_reduced.pdf\"\n",
    "\n",
    "# Define schema for Marly, table column name and a breif description of the column\n",
    "SCHEMA = json.dumps({\n",
    "        \"Firm\": \"The name of the firm\",\n",
    "        \"Number of Funds\": \"The number of funds managed by the firm\",\n",
    "        \"Commitment\": \"The commitment amount in millions of dollars\",\n",
    "        \"Percent of Total Comm\": \"The percentage of total commitment\",\n",
    "        \"Exposure (FMV + Unfunded)\": \"The exposure including fair market value and unfunded commitments in millions of dollars\",\n",
    "        \"Percent of Total Exposure\": \"The percentage of total exposure\",\n",
    "        \"TVPI\": \"Total Value to Paid-In multiple\",\n",
    "        \"Net IRR\": \"Net Internal Rate of Return as a percentage\"\n",
    "    })\n",
    "\n",
    "def read_and_encode_pdf(file_path):\n",
    "    with open(file_path, \"rb\") as file:\n",
    "        pdf_content = base64.b64encode(zlib.compress(file.read())).decode('utf-8')\n",
    "    logging.debug(f\"{file_path} read and encoded\")\n",
    "    return pdf_content\n",
    "\n",
    "def to_dict(results):\n",
    "    return {\"results\": [result.to_dict() for result in results]}\n",
    "\n",
    "def process_pdf_tool(pdf_file_path: str, schema: str) -> list[dict]:\n",
    "    \"\"\"Use this to process the pdf file. \"\"\"\n",
    "    pipeline_response_model = None\n",
    "    try:\n",
    "        pipeline_response_model = client.pipelines.create(\n",
    "            api_key=os.environ.get(\"GROQ_API_KEY\"),\n",
    "            provider_model_name=\"llama-3.1-70b-versatile\",\n",
    "            provider_type=\"groq\",\n",
    "            workloads=[\n",
    "                {\n",
    "                    \"pdf_stream\": read_and_encode_pdf(pdf_file_path),\n",
    "                    \"schemas\": [schema]\n",
    "                }\n",
    "            ]\n",
    "        )\n",
    "    except marly.APIConnectionError as e:\n",
    "        print(\"The server could not be reached\")\n",
    "        print(e.__cause__)\n",
    "    except marly.RateLimitError as e:\n",
    "        print(\"A 429 status code was received; we should back off a bit.\")\n",
    "    except marly.APIStatusError as e:\n",
    "        print(\"Another non-200-range status code was received\")\n",
    "        print(e.status_code)\n",
    "        print(e.response)\n",
    "\n",
    "    max_attempts = 100\n",
    "    attempt = 0\n",
    "    while attempt < max_attempts:\n",
    "        logging.debug(f\"Waiting for pipeline to complete. Attempt {attempt + 1} of {max_attempts}\")\n",
    "        time.sleep(1)\n",
    "\n",
    "        results = client.pipelines.retrieve(pipeline_response_model.task_id)\n",
    "        logging.debug(f\"Poll attempt {attempt + 1}: Status - {results.status}\")\n",
    "\n",
    "        if results.status == 'COMPLETED':\n",
    "            logging.debug(f\"Pipeline completed with results: {results.results}\")\n",
    "            return to_dict(results.results)\n",
    "        elif results.status == 'FAILED':\n",
    "            logging.error(f\"Error: {results.get('error_message', 'Unknown error')}\")\n",
    "            return None\n",
    "\n",
    "        attempt += 1\n",
    "\n",
    "    logging.warning(\"Timeout: Pipeline execution took too long.\")\n",
    "    return None\n"
   ]
  },
  {
   "cell_type": "code",
   "execution_count": 10,
   "metadata": {},
   "outputs": [],
   "source": [
    "# Here we're using langchain PythonREPL tool to execute any arbitrary Python code, if you dont have Langchain library installed, uncomment below line to install\n",
    "# %pip install langchain, langchain_experimental\n",
    "\n",
    "# Function to execute any Python function. Note: USE WITH CAUTION\n",
    "from langchain_experimental.utilities import PythonREPL\n",
    "repl = PythonREPL()\n",
    "\n",
    "# Define the tool to execute python code\n",
    "def python_repl(\n",
    "    code: str,\n",
    "):\n",
    "    \"\"\"Use this to execute python code. \"\"\"\n",
    "    try:\n",
    "        print(f\"code to execute: {code}\")\n",
    "        result = repl.run(code)\n",
    "    except BaseException as e:\n",
    "        return f\"Failed to execute. Error: {repr(e)}\"\n",
    "    result_str = f\"Successfully executed:\\n```python\\n{code}\\n```\\nStdout: {result}\"\n",
    "    return (\n",
    "        result_str + \"\\n\\nIf you have completed all tasks, respond with FINAL ANSWER.\"\n",
    "    )"
   ]
  },
  {
   "cell_type": "markdown",
   "metadata": {},
   "source": [
    "### Define Agents"
   ]
  },
  {
   "cell_type": "code",
   "execution_count": 12,
   "metadata": {},
   "outputs": [],
   "source": [
    "import autogen\n",
    "from autogen.coding import LocalCommandLineCodeExecutor\n",
    "\n",
    "config_list = autogen.config_list_from_json(\n",
    "    \"OAI_CONFIG_LIST.json\",\n",
    ")\n",
    "\n",
    "llm_config = {\n",
    "    \"config_list\": config_list,\n",
    "    \"timeout\": 120,\n",
    "}\n",
    "\n",
    "# Agent that can call process_pdf_tool function to process pdf\n",
    "pdf_processor = autogen.AssistantAgent(\n",
    "    name=\"pdf_processor\",\n",
    "    llm_config=llm_config,\n",
    "    system_message='''You are an expert at extracting data for a schema from PDFs.\n",
    "     For pdf processing tasks, only use the functions you have been provided with.\n",
    "     Reply TERMINATE when the task is done and there's no problem''',\n",
    ")\n",
    "\n",
    "# Agent that can call python_repl function to write and execute python code\n",
    "code_executor = autogen.AssistantAgent(\n",
    "    name=\"code_executor\",\n",
    "    llm_config=llm_config,\n",
    "    system_message='''You are an expert at writing python code and execute the code.\n",
    "      For code execution tasks, only use the functions you have been provided with.\n",
    "      Reply TERMINATE when the task is solved and there is no problem.''',\n",
    ")\n",
    "\n",
    "\n",
    "# executor = LocalCommandLineCodeExecutor(work_dir=\"coding\")\n",
    "\n",
    "# create a UserProxyAgent instance named \"user_proxy\"\n",
    "user_proxy = autogen.UserProxyAgent(\n",
    "    name=\"user_proxy\",\n",
    "    is_termination_msg=lambda x: x.get(\"content\", \"\") and x.get(\"content\", \"\").rstrip().endswith(\"TERMINATE\"),\n",
    "    human_input_mode=\"NEVER\",\n",
    "    max_consecutive_auto_reply=100,\n",
    "    # code_execution_config={\n",
    "    #     \"executor\": executor,\n",
    "    # }\n",
    ")\n"
   ]
  },
  {
   "cell_type": "markdown",
   "metadata": {},
   "source": [
    "### Assign Tools to the Agents"
   ]
  },
  {
   "cell_type": "code",
   "execution_count": 13,
   "metadata": {},
   "outputs": [],
   "source": [
    "from typing_extensions import Annotated\n",
    "\n",
    "# Assign process_pdf_tool function call to pdf_processor\n",
    "@user_proxy.register_for_execution()\n",
    "@pdf_processor.register_for_llm(description=\"pdf_processor\")\n",
    "def process_pdf(pdf_file_path: Annotated[str, \"PDF to be processed\"], schema: Annotated[str, \"Schema for the data to be extracted\"]) -> list[dict]:\n",
    "    return process_pdf_tool(pdf_file_path, schema)\n",
    "\n",
    "# Assign python_repl function call to code_executor\n",
    "@user_proxy.register_for_execution()\n",
    "@code_executor.register_for_llm(description=\"code_executor\")\n",
    "def execute_function(code: Annotated[str, \"Python code to be executed\"]) -> str:\n",
    "    python_repl(code)\n",
    "    return \"Done\""
   ]
  },
  {
   "cell_type": "markdown",
   "metadata": {},
   "source": [
    "### Execute the flow"
   ]
  },
  {
   "cell_type": "code",
   "execution_count": 7,
   "metadata": {},
   "outputs": [
    {
     "name": "stdout",
     "output_type": "stream",
     "text": [
      "\u001b[33muser_proxy\u001b[0m (to pdf_processor):\n",
      "\n",
      "What data can you extract from the pdf under path ./lacers_reduced.pdf with the given schema {\"Firm\": \"The name of the firm\", \"Number of Funds\": \"The number of funds managed by the firm\", \"Commitment\": \"The commitment amount in millions of dollars\", \"Percent of Total Comm\": \"The percentage of total commitment\", \"Exposure (FMV + Unfunded)\": \"The exposure including fair market value and unfunded commitments in millions of dollars\", \"Percent of Total Exposure\": \"The percentage of total exposure\", \"TVPI\": \"Total Value to Paid-In multiple\", \"Net IRR\": \"Net Internal Rate of Return as a percentage\"}\n",
      "\n",
      "--------------------------------------------------------------------------------\n",
      "\u001b[33mpdf_processor\u001b[0m (to user_proxy):\n",
      "\n",
      "\u001b[32m***** Suggested tool call (call_9dwy): process_pdf *****\u001b[0m\n",
      "Arguments: \n",
      "{\"pdf_file_path\": \"./lacers_reduced.pdf\", \"schema\": \"{\\\"Firm\\\": \\\"The name of the firm\\\", \\\"Number of Funds\\\": \\\"The number of funds managed by the firm\\\", \\\"Commitment\\\": \\\"The commitment amount in millions of dollars\\\", \\\"Percent of Total Comm\\\": \\\"The percentage of total commitment\\\", \\\"Exposure (FMV + Unfunded)\\\": \\\"The exposure including fair market value and unfunded commitments in millions of dollars\\\", \\\"Percent of Total Exposure\\\": \\\"The percentage of total exposure\\\", \\\"TVPI\\\": \\\"Total Value to Paid-In multiple\\\", \\\"Net IRR\\\": \\\"Net Internal Rate of Return as a percentage\\\"}\"}\n",
      "\u001b[32m********************************************************\u001b[0m\n",
      "\n",
      "--------------------------------------------------------------------------------\n",
      "\u001b[35m\n",
      ">>>>>>>> EXECUTING FUNCTION process_pdf...\u001b[0m\n"
     ]
    },
    {
     "name": "stderr",
     "output_type": "stream",
     "text": [
      "/opt/homebrew/lib/python3.12/site-packages/autogen/oai/groq.py:286: UserWarning: Cost calculation not available for model llama-3.1-70b-versatile\n",
      "  warnings.warn(f\"Cost calculation not available for model {model}\", UserWarning)\n"
     ]
    },
    {
     "name": "stdout",
     "output_type": "stream",
     "text": [
      "\u001b[33muser_proxy\u001b[0m (to pdf_processor):\n",
      "\n",
      "\u001b[33muser_proxy\u001b[0m (to pdf_processor):\n",
      "\n",
      "\u001b[32m***** Response from calling tool (call_9dwy) *****\u001b[0m\n",
      "{\"results\": [{\"metrics\": {\"schema_0\": \"{\\n   \\\"Firm\\\": [\\n      \\\"Vista Equity Partners\\\",\\n      \\\"ABRY Partners\\\",\\n      \\\"Advent International\\\",\\n      \\\"Thoma Bravo\\\",\\n      \\\"Platinum Equity\\\",\\n      \\\"Spark Management Partners\\\",\\n      \\\"New Enterprise Associates\\\",\\n      \\\"Technology Crossover Ventures\\\",\\n      \\\"EnCap Investments\\\",\\n      \\\"Hellman & Friedman\\\"\\n   ],\\n   \\\"Number of Funds\\\": [\\n      \\\"7\\\",\\n      \\\"6\\\",\\n      \\\"5\\\",\\n      \\\"5\\\",\\n      \\\"4\\\",\\n      \\\"6\\\",\\n      \\\"4\\\",\\n      \\\"5\\\",\\n      \\\"4\\\",\\n      \\\"5\\\"\\n   ],\\n   \\\"Commitment\\\": [\\n      \\\"185,000,000\\\",\\n      \\\"145,000,000\\\",\\n      \\\"145,000,000\\\",\\n      \\\"90,000,000\\\",\\n      \\\"112,500,000\\\",\\n      \\\"93,750,000\\\",\\n      \\\"95,000,000\\\",\\n      \\\"104,500,000\\\",\\n      \\\"120,000,000\\\",\\n      \\\"100,463,972\\\"\\n   ],\\n   \\\"Percent of Total Comm\\\": [\\n      \\\"3.6\\\",\\n      \\\"2.8\\\",\\n      \\\"2.8\\\",\\n      \\\"1.8\\\",\\n      \\\"2.2\\\",\\n      \\\"1.8\\\",\\n      \\\"1.9\\\",\\n      \\\"2.0\\\",\\n      \\\"2.3\\\",\\n      \\\"2.0\\\"\\n   ],\\n   \\\"Exposure (FMV + Unfunded)\\\": [\\n      \\\"192,356,158\\\",\\n      \\\"146,947,169\\\",\\n      \\\"132,320,692\\\",\\n      \\\"119,164,173\\\",\\n      \\\"105,732,861\\\",\\n      \\\"104,048,457\\\",\\n      \\\"103,565,654\\\",\\n      \\\"100,481,558\\\",\\n      \\\"97,535,330\\\",\\n      \\\"91,816,195\\\"\\n   ],\\n   \\\"Percent of Total Exposure\\\": [\\n      \\\"5.4\\\",\\n      \\\"4.2\\\",\\n      \\\"3.7\\\",\\n      \\\"3.4\\\",\\n      \\\"3.0\\\",\\n      \\\"2.9\\\",\\n      \\\"2.9\\\",\\n      \\\"2.8\\\",\\n      \\\"2.8\\\",\\n      \\\"2.6\\\"\\n   ],\\n   \\\"TVPI\\\": [\\n      \\\"2.07\\\",\\n      \\\"1.25\\\",\\n      \\\"1.64\\\",\\n      \\\"1.85\\\",\\n      \\\"1.64\\\",\\n      \\\"2.42\\\",\\n      \\\"1.60\\\",\\n      \\\"1.95\\\",\\n      \\\"1.11\\\",\\n      \\\"2.09\\\"\\n   ],\\n   \\\"Net IRR\\\": [\\n      \\\"22.2\\\",\\n      \\\"9.6\\\",\\n      \\\"16.0\\\",\\n      \\\"24.7\\\",\\n      \\\"28.5\\\",\\n      \\\"27.4\\\",\\n      \\\"15.7\\\",\\n      \\\"14.9\\\",\\n      \\\"4.5\\\",\\n      \\\"20.3\\\"\\n   ]\\n}\"}, \"schema_data\": {\"Firm\": \"The name of the firm\", \"Number of Funds\": \"The number of funds managed by the firm\", \"Commitment\": \"The commitment amount in millions of dollars\", \"Percent of Total Comm\": \"The percentage of total commitment\", \"Exposure (FMV + Unfunded)\": \"The exposure including fair market value and unfunded commitments in millions of dollars\", \"Percent of Total Exposure\": \"The percentage of total exposure\", \"TVPI\": \"Total Value to Paid-In multiple\", \"Net IRR\": \"Net Internal Rate of Return as a percentage\"}, \"schema_id\": \"schema_0\"}]}\n",
      "\u001b[32m**************************************************\u001b[0m\n",
      "\n",
      "--------------------------------------------------------------------------------\n",
      "\u001b[33mpdf_processor\u001b[0m (to user_proxy):\n",
      "\n",
      "TERMINATE\n",
      "\n",
      "--------------------------------------------------------------------------------\n",
      "\u001b[33muser_proxy\u001b[0m (to code_executor):\n",
      "\n",
      "Write Python code to plot a chart of the firm and their commitments based on {\"results\": [{\"metrics\": {\"schema_0\": \"{\\n   \\\"Firm\\\": [\\n      \\\"Vista Equity Partners\\\",\\n      \\\"ABRY Partners\\\",\\n      \\\"Advent International\\\",\\n      \\\"Thoma Bravo\\\",\\n      \\\"Platinum Equity\\\",\\n      \\\"Spark Management Partners\\\",\\n      \\\"New Enterprise Associates\\\",\\n      \\\"Technology Crossover Ventures\\\",\\n      \\\"EnCap Investments\\\",\\n      \\\"Hellman & Friedman\\\"\\n   ],\\n   \\\"Number of Funds\\\": [\\n      \\\"7\\\",\\n      \\\"6\\\",\\n      \\\"5\\\",\\n      \\\"5\\\",\\n      \\\"4\\\",\\n      \\\"6\\\",\\n      \\\"4\\\",\\n      \\\"5\\\",\\n      \\\"4\\\",\\n      \\\"5\\\"\\n   ],\\n   \\\"Commitment\\\": [\\n      \\\"185,000,000\\\",\\n      \\\"145,000,000\\\",\\n      \\\"145,000,000\\\",\\n      \\\"90,000,000\\\",\\n      \\\"112,500,000\\\",\\n      \\\"93,750,000\\\",\\n      \\\"95,000,000\\\",\\n      \\\"104,500,000\\\",\\n      \\\"120,000,000\\\",\\n      \\\"100,463,972\\\"\\n   ],\\n   \\\"Percent of Total Comm\\\": [\\n      \\\"3.6\\\",\\n      \\\"2.8\\\",\\n      \\\"2.8\\\",\\n      \\\"1.8\\\",\\n      \\\"2.2\\\",\\n      \\\"1.8\\\",\\n      \\\"1.9\\\",\\n      \\\"2.0\\\",\\n      \\\"2.3\\\",\\n      \\\"2.0\\\"\\n   ],\\n   \\\"Exposure (FMV + Unfunded)\\\": [\\n      \\\"192,356,158\\\",\\n      \\\"146,947,169\\\",\\n      \\\"132,320,692\\\",\\n      \\\"119,164,173\\\",\\n      \\\"105,732,861\\\",\\n      \\\"104,048,457\\\",\\n      \\\"103,565,654\\\",\\n      \\\"100,481,558\\\",\\n      \\\"97,535,330\\\",\\n      \\\"91,816,195\\\"\\n   ],\\n   \\\"Percent of Total Exposure\\\": [\\n      \\\"5.4\\\",\\n      \\\"4.2\\\",\\n      \\\"3.7\\\",\\n      \\\"3.4\\\",\\n      \\\"3.0\\\",\\n      \\\"2.9\\\",\\n      \\\"2.9\\\",\\n      \\\"2.8\\\",\\n      \\\"2.8\\\",\\n      \\\"2.6\\\"\\n   ],\\n   \\\"TVPI\\\": [\\n      \\\"2.07\\\",\\n      \\\"1.25\\\",\\n      \\\"1.64\\\",\\n      \\\"1.85\\\",\\n      \\\"1.64\\\",\\n      \\\"2.42\\\",\\n      \\\"1.60\\\",\\n      \\\"1.95\\\",\\n      \\\"1.11\\\",\\n      \\\"2.09\\\"\\n   ],\\n   \\\"Net IRR\\\": [\\n      \\\"22.2\\\",\\n      \\\"9.6\\\",\\n      \\\"16.0\\\",\\n      \\\"24.7\\\",\\n      \\\"28.5\\\",\\n      \\\"27.4\\\",\\n      \\\"15.7\\\",\\n      \\\"14.9\\\",\\n      \\\"4.5\\\",\\n      \\\"20.3\\\"\\n   ]\\n}\"}, \"schema_data\": {\"Firm\": \"The name of the firm\", \"Number of Funds\": \"The number of funds managed by the firm\", \"Commitment\": \"The commitment amount in millions of dollars\", \"Percent of Total Comm\": \"The percentage of total commitment\", \"Exposure (FMV + Unfunded)\": \"The exposure including fair market value and unfunded commitments in millions of dollars\", \"Percent of Total Exposure\": \"The percentage of total exposure\", \"TVPI\": \"Total Value to Paid-In multiple\", \"Net IRR\": \"Net Internal Rate of Return as a percentage\"}, \"schema_id\": \"schema_0\"}]}.\n",
      "            Save the chart to plot.png\n",
      "\n",
      "--------------------------------------------------------------------------------\n",
      "\u001b[33mcode_executor\u001b[0m (to user_proxy):\n",
      "\n",
      "\u001b[32m***** Suggested tool call (call_tpy5): execute_function *****\u001b[0m\n",
      "Arguments: \n",
      "{\"code\":\"import pandas as pd\\nimport matplotlib.pyplot as plt\\n\\n# Define the data\\nfirms = ['Vista Equity Partners', 'ABRY Partners', 'Advent International', 'Thoma Bravo', 'Platinum Equity', 'Spark Management Partners', 'New Enterprise Associates', 'Technology Crossover Ventures', 'EnCap Investments', 'Hellman & Friedman']\\ncommitments = [185000000, 145000000, 145000000, 90000000, 112500000, 93750000, 95000000, 104500000, 120000000, 100463972]\\n\\n# Create a pandas DataFrame\\nchart_data = pd.DataFrame({\\n    'Firm': firms,\\n    'Commitment': commitments\\n})\\n\\n# Plot the chart\\nplt.figure(figsize=(10, 5))\\nplt.bar('Firm', 'Commitment', data=chart_data)\\nplt.xlabel('Firm Name')\\nplt.ylabel('Commitment ($ millions)')\\nplt.title('Commitments by Firm')\\nplt.xticks(rotation=90)\\nplt.tight_layout()\\n\\n# Save the plot to an image file\\nplt.savefig('plot.png')\\nprint('Plot saved to plot.png')\\n\"}\n",
      "\u001b[32m*************************************************************\u001b[0m\n",
      "\n",
      "--------------------------------------------------------------------------------\n",
      "\u001b[35m\n",
      ">>>>>>>> EXECUTING FUNCTION execute_function...\u001b[0m\n"
     ]
    },
    {
     "name": "stderr",
     "output_type": "stream",
     "text": [
      "WARNING:langchain_experimental.utilities.python:Python REPL can execute arbitrary code. Use with caution.\n"
     ]
    },
    {
     "name": "stdout",
     "output_type": "stream",
     "text": [
      "code to execute: import pandas as pd\n",
      "import matplotlib.pyplot as plt\n",
      "\n",
      "# Define the data\n",
      "firms = ['Vista Equity Partners', 'ABRY Partners', 'Advent International', 'Thoma Bravo', 'Platinum Equity', 'Spark Management Partners', 'New Enterprise Associates', 'Technology Crossover Ventures', 'EnCap Investments', 'Hellman & Friedman']\n",
      "commitments = [185000000, 145000000, 145000000, 90000000, 112500000, 93750000, 95000000, 104500000, 120000000, 100463972]\n",
      "\n",
      "# Create a pandas DataFrame\n",
      "chart_data = pd.DataFrame({\n",
      "    'Firm': firms,\n",
      "    'Commitment': commitments\n",
      "})\n",
      "\n",
      "# Plot the chart\n",
      "plt.figure(figsize=(10, 5))\n",
      "plt.bar('Firm', 'Commitment', data=chart_data)\n",
      "plt.xlabel('Firm Name')\n",
      "plt.ylabel('Commitment ($ millions)')\n",
      "plt.title('Commitments by Firm')\n",
      "plt.xticks(rotation=90)\n",
      "plt.tight_layout()\n",
      "\n",
      "# Save the plot to an image file\n",
      "plt.savefig('plot.png')\n",
      "print('Plot saved to plot.png')\n",
      "\n",
      "\u001b[33muser_proxy\u001b[0m (to code_executor):\n",
      "\n",
      "\u001b[33muser_proxy\u001b[0m (to code_executor):\n",
      "\n",
      "\u001b[32m***** Response from calling tool (call_tpy5) *****\u001b[0m\n",
      "Done\n",
      "\u001b[32m**************************************************\u001b[0m\n",
      "\n",
      "--------------------------------------------------------------------------------\n",
      "\u001b[33mcode_executor\u001b[0m (to user_proxy):\n",
      "\n",
      "TERMINATE\n",
      "\n",
      "--------------------------------------------------------------------------------\n"
     ]
    },
    {
     "name": "stderr",
     "output_type": "stream",
     "text": [
      "/opt/homebrew/lib/python3.12/site-packages/autogen/oai/groq.py:286: UserWarning: Cost calculation not available for model llama-3.1-70b-versatile\n",
      "  warnings.warn(f\"Cost calculation not available for model {model}\", UserWarning)\n"
     ]
    },
    {
     "data": {
      "text/plain": [
       "ChatResult(chat_id=None, chat_history=[{'content': 'Write Python code to plot a chart of the firm and their commitments based on {\"results\": [{\"metrics\": {\"schema_0\": \"{\\\\n   \\\\\"Firm\\\\\": [\\\\n      \\\\\"Vista Equity Partners\\\\\",\\\\n      \\\\\"ABRY Partners\\\\\",\\\\n      \\\\\"Advent International\\\\\",\\\\n      \\\\\"Thoma Bravo\\\\\",\\\\n      \\\\\"Platinum Equity\\\\\",\\\\n      \\\\\"Spark Management Partners\\\\\",\\\\n      \\\\\"New Enterprise Associates\\\\\",\\\\n      \\\\\"Technology Crossover Ventures\\\\\",\\\\n      \\\\\"EnCap Investments\\\\\",\\\\n      \\\\\"Hellman & Friedman\\\\\"\\\\n   ],\\\\n   \\\\\"Number of Funds\\\\\": [\\\\n      \\\\\"7\\\\\",\\\\n      \\\\\"6\\\\\",\\\\n      \\\\\"5\\\\\",\\\\n      \\\\\"5\\\\\",\\\\n      \\\\\"4\\\\\",\\\\n      \\\\\"6\\\\\",\\\\n      \\\\\"4\\\\\",\\\\n      \\\\\"5\\\\\",\\\\n      \\\\\"4\\\\\",\\\\n      \\\\\"5\\\\\"\\\\n   ],\\\\n   \\\\\"Commitment\\\\\": [\\\\n      \\\\\"185,000,000\\\\\",\\\\n      \\\\\"145,000,000\\\\\",\\\\n      \\\\\"145,000,000\\\\\",\\\\n      \\\\\"90,000,000\\\\\",\\\\n      \\\\\"112,500,000\\\\\",\\\\n      \\\\\"93,750,000\\\\\",\\\\n      \\\\\"95,000,000\\\\\",\\\\n      \\\\\"104,500,000\\\\\",\\\\n      \\\\\"120,000,000\\\\\",\\\\n      \\\\\"100,463,972\\\\\"\\\\n   ],\\\\n   \\\\\"Percent of Total Comm\\\\\": [\\\\n      \\\\\"3.6\\\\\",\\\\n      \\\\\"2.8\\\\\",\\\\n      \\\\\"2.8\\\\\",\\\\n      \\\\\"1.8\\\\\",\\\\n      \\\\\"2.2\\\\\",\\\\n      \\\\\"1.8\\\\\",\\\\n      \\\\\"1.9\\\\\",\\\\n      \\\\\"2.0\\\\\",\\\\n      \\\\\"2.3\\\\\",\\\\n      \\\\\"2.0\\\\\"\\\\n   ],\\\\n   \\\\\"Exposure (FMV + Unfunded)\\\\\": [\\\\n      \\\\\"192,356,158\\\\\",\\\\n      \\\\\"146,947,169\\\\\",\\\\n      \\\\\"132,320,692\\\\\",\\\\n      \\\\\"119,164,173\\\\\",\\\\n      \\\\\"105,732,861\\\\\",\\\\n      \\\\\"104,048,457\\\\\",\\\\n      \\\\\"103,565,654\\\\\",\\\\n      \\\\\"100,481,558\\\\\",\\\\n      \\\\\"97,535,330\\\\\",\\\\n      \\\\\"91,816,195\\\\\"\\\\n   ],\\\\n   \\\\\"Percent of Total Exposure\\\\\": [\\\\n      \\\\\"5.4\\\\\",\\\\n      \\\\\"4.2\\\\\",\\\\n      \\\\\"3.7\\\\\",\\\\n      \\\\\"3.4\\\\\",\\\\n      \\\\\"3.0\\\\\",\\\\n      \\\\\"2.9\\\\\",\\\\n      \\\\\"2.9\\\\\",\\\\n      \\\\\"2.8\\\\\",\\\\n      \\\\\"2.8\\\\\",\\\\n      \\\\\"2.6\\\\\"\\\\n   ],\\\\n   \\\\\"TVPI\\\\\": [\\\\n      \\\\\"2.07\\\\\",\\\\n      \\\\\"1.25\\\\\",\\\\n      \\\\\"1.64\\\\\",\\\\n      \\\\\"1.85\\\\\",\\\\n      \\\\\"1.64\\\\\",\\\\n      \\\\\"2.42\\\\\",\\\\n      \\\\\"1.60\\\\\",\\\\n      \\\\\"1.95\\\\\",\\\\n      \\\\\"1.11\\\\\",\\\\n      \\\\\"2.09\\\\\"\\\\n   ],\\\\n   \\\\\"Net IRR\\\\\": [\\\\n      \\\\\"22.2\\\\\",\\\\n      \\\\\"9.6\\\\\",\\\\n      \\\\\"16.0\\\\\",\\\\n      \\\\\"24.7\\\\\",\\\\n      \\\\\"28.5\\\\\",\\\\n      \\\\\"27.4\\\\\",\\\\n      \\\\\"15.7\\\\\",\\\\n      \\\\\"14.9\\\\\",\\\\n      \\\\\"4.5\\\\\",\\\\n      \\\\\"20.3\\\\\"\\\\n   ]\\\\n}\"}, \"schema_data\": {\"Firm\": \"The name of the firm\", \"Number of Funds\": \"The number of funds managed by the firm\", \"Commitment\": \"The commitment amount in millions of dollars\", \"Percent of Total Comm\": \"The percentage of total commitment\", \"Exposure (FMV + Unfunded)\": \"The exposure including fair market value and unfunded commitments in millions of dollars\", \"Percent of Total Exposure\": \"The percentage of total exposure\", \"TVPI\": \"Total Value to Paid-In multiple\", \"Net IRR\": \"Net Internal Rate of Return as a percentage\"}, \"schema_id\": \"schema_0\"}]}.\\n            Save the chart to plot.png', 'role': 'assistant', 'name': 'user_proxy'}, {'tool_calls': [{'id': 'call_tpy5', 'function': {'arguments': '{\"code\":\"import pandas as pd\\\\nimport matplotlib.pyplot as plt\\\\n\\\\n# Define the data\\\\nfirms = [\\'Vista Equity Partners\\', \\'ABRY Partners\\', \\'Advent International\\', \\'Thoma Bravo\\', \\'Platinum Equity\\', \\'Spark Management Partners\\', \\'New Enterprise Associates\\', \\'Technology Crossover Ventures\\', \\'EnCap Investments\\', \\'Hellman & Friedman\\']\\\\ncommitments = [185000000, 145000000, 145000000, 90000000, 112500000, 93750000, 95000000, 104500000, 120000000, 100463972]\\\\n\\\\n# Create a pandas DataFrame\\\\nchart_data = pd.DataFrame({\\\\n    \\'Firm\\': firms,\\\\n    \\'Commitment\\': commitments\\\\n})\\\\n\\\\n# Plot the chart\\\\nplt.figure(figsize=(10, 5))\\\\nplt.bar(\\'Firm\\', \\'Commitment\\', data=chart_data)\\\\nplt.xlabel(\\'Firm Name\\')\\\\nplt.ylabel(\\'Commitment ($ millions)\\')\\\\nplt.title(\\'Commitments by Firm\\')\\\\nplt.xticks(rotation=90)\\\\nplt.tight_layout()\\\\n\\\\n# Save the plot to an image file\\\\nplt.savefig(\\'plot.png\\')\\\\nprint(\\'Plot saved to plot.png\\')\\\\n\"}', 'name': 'execute_function'}, 'type': 'function'}], 'content': None, 'role': 'assistant'}, {'content': 'Done', 'tool_responses': [{'tool_call_id': 'call_tpy5', 'role': 'tool', 'content': 'Done'}], 'role': 'tool', 'name': 'user_proxy'}, {'content': 'TERMINATE', 'role': 'user', 'name': 'code_executor'}], summary={'content': None, 'refusal': None, 'role': 'assistant', 'function_call': None, 'tool_calls': [{'id': 'call_64v9', 'function': {'arguments': '{\"code\":\"import matplotlib.pyplot as plt\\\\nplt.clf()\\\\nplt.cla()\\\\nplt.close()\\\\n\"}', 'name': 'execute_function'}, 'type': 'function'}]}, cost={'usage_including_cached_inference': {'total_cost': 0.0, 'llama-3.1-70b-versatile': {'cost': 0.0, 'prompt_tokens': 3897, 'completion_tokens': 314, 'total_tokens': 4211}}, 'usage_excluding_cached_inference': {'total_cost': 0.0, 'llama-3.1-70b-versatile': {'cost': 0.0, 'prompt_tokens': 3897, 'completion_tokens': 314, 'total_tokens': 4211}}}, human_input=[])"
      ]
     },
     "execution_count": 7,
     "metadata": {},
     "output_type": "execute_result"
    },
    {
     "data": {
      "image/png": "[encoded data removed]",
      "text/plain": [
       "<Figure size 1000x500 with 1 Axes>"
      ]
     },
     "metadata": {},
     "output_type": "display_data"
    }
   ],
   "source": [
    "result = user_proxy.initiate_chat(\n",
    "    recipient=pdf_processor,\n",
    "    summary_method=\"reflection_with_llm\",\n",
    "    message=f\"What data can you extract from the pdf under path {PDF_FILE_PATH} with the given schema {SCHEMA}\"\n",
    ")\n",
    "\n",
    "user_proxy.initiate_chat(\n",
    "    recipient=code_executor,\n",
    "    summary_method=\"reflection_with_llm\",\n",
    "    message=f\"\"\"Write Python code to plot a chart of the firm and their commitments based on {result.chat_history[-2]['content']}.\n",
    "            Save the chart to plot.png\"\"\"\n",
    ")   "
   ]
  }
 ],
 "metadata": {
  "kernelspec": {
   "display_name": "Python 3",
   "language": "python",
   "name": "python3"
  },
  "language_info": {
   "codemirror_mode": {
    "name": "ipython",
    "version": 3
   },
   "file_extension": ".py",
   "mimetype": "text/x-python",
   "name": "python",
   "nbconvert_exporter": "python",
   "pygments_lexer": "ipython3",
   "version": "3.12.3"
  }
 },
 "nbformat": 4,
 "nbformat_minor": 2
}
